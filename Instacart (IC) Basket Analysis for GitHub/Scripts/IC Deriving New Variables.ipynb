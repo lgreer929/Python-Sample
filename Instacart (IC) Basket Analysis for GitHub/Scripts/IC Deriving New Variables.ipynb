{
 "cells": [
  {
   "cell_type": "markdown",
   "id": "49f26a4f-1baa-4ab7-994d-8d1a900cb0ad",
   "metadata": {},
   "source": [
    "# Deriving New Variables"
   ]
  },
  {
   "cell_type": "code",
   "execution_count": 10,
   "id": "a9315e6b-f8d5-4f4d-93b7-860267c533e7",
   "metadata": {},
   "outputs": [],
   "source": [
    "# import libraries\n",
    "import pandas as pd\n",
    "import numpy as np\n",
    "import os"
   ]
  },
  {
   "cell_type": "code",
   "execution_count": 12,
   "id": "73f9332e-f3ea-4a61-bcd2-749ffbb060dd",
   "metadata": {},
   "outputs": [],
   "source": [
    "# create path shortcut\n",
    "path = r'C:\\Users\\lisag\\Desktop\\CF Work\\Immersion 4 Tasks\\Instacart (IC) Basket Analysis'"
   ]
  },
  {
   "cell_type": "code",
   "execution_count": 14,
   "id": "1fda5b6a-ba81-4e8c-92ac-2ae08c70c6b9",
   "metadata": {},
   "outputs": [],
   "source": [
    "# import orders and products data set\n",
    "df_ords_prods_merge = pd.read_pickle(os.path.join(path, '02 Data', 'Prepared Data', 'ords_prods_merge.pkl'))"
   ]
  },
  {
   "cell_type": "code",
   "execution_count": 46,
   "id": "bf959453-3b34-4ff3-84a1-aeb8a0be93b9",
   "metadata": {},
   "outputs": [],
   "source": [
    "# change order of table to be sorted by product_id\n",
    "df_ords_prods_merge = df_ords_prods_merge.sort_values(by='order_id')"
   ]
  },
  {
   "cell_type": "code",
   "execution_count": 48,
   "id": "ddb42d8c-3557-4f8b-b1f3-ff0fb1d472f6",
   "metadata": {},
   "outputs": [],
   "source": [
    "# limit number of rows\n",
    "df = df_ords_prods_merge[:1000000]"
   ]
  },
  {
   "cell_type": "code",
   "execution_count": 50,
   "id": "f21728ea-6566-47e0-865f-da689bbefa62",
   "metadata": {},
   "outputs": [
    {
     "data": {
      "text/html": [
       "<div>\n",
       "<style scoped>\n",
       "    .dataframe tbody tr th:only-of-type {\n",
       "        vertical-align: middle;\n",
       "    }\n",
       "\n",
       "    .dataframe tbody tr th {\n",
       "        vertical-align: top;\n",
       "    }\n",
       "\n",
       "    .dataframe thead th {\n",
       "        text-align: right;\n",
       "    }\n",
       "</style>\n",
       "<table border=\"1\" class=\"dataframe\">\n",
       "  <thead>\n",
       "    <tr style=\"text-align: right;\">\n",
       "      <th></th>\n",
       "      <th>order_id</th>\n",
       "      <th>user_id</th>\n",
       "      <th>order_number</th>\n",
       "      <th>orders_day_of_week</th>\n",
       "      <th>order_time_24hour</th>\n",
       "      <th>days_since_prior_order</th>\n",
       "      <th>product_id</th>\n",
       "      <th>add_to_cart_order</th>\n",
       "      <th>reordered</th>\n",
       "      <th>product_name</th>\n",
       "      <th>aisle_id</th>\n",
       "      <th>department_id</th>\n",
       "      <th>prices</th>\n",
       "      <th>_merge</th>\n",
       "    </tr>\n",
       "  </thead>\n",
       "  <tbody>\n",
       "    <tr>\n",
       "      <th>31795466</th>\n",
       "      <td>2</td>\n",
       "      <td>202279</td>\n",
       "      <td>3</td>\n",
       "      <td>5</td>\n",
       "      <td>9</td>\n",
       "      <td>8.0</td>\n",
       "      <td>1819</td>\n",
       "      <td>8</td>\n",
       "      <td>1</td>\n",
       "      <td>All Natural No Stir Creamy Almond Butter</td>\n",
       "      <td>88</td>\n",
       "      <td>13</td>\n",
       "      <td>11.5</td>\n",
       "      <td>both</td>\n",
       "    </tr>\n",
       "    <tr>\n",
       "      <th>31795465</th>\n",
       "      <td>2</td>\n",
       "      <td>202279</td>\n",
       "      <td>3</td>\n",
       "      <td>5</td>\n",
       "      <td>9</td>\n",
       "      <td>8.0</td>\n",
       "      <td>40141</td>\n",
       "      <td>7</td>\n",
       "      <td>1</td>\n",
       "      <td>Original Unflavored Gelatine Mix</td>\n",
       "      <td>105</td>\n",
       "      <td>13</td>\n",
       "      <td>11.5</td>\n",
       "      <td>both</td>\n",
       "    </tr>\n",
       "    <tr>\n",
       "      <th>31795459</th>\n",
       "      <td>2</td>\n",
       "      <td>202279</td>\n",
       "      <td>3</td>\n",
       "      <td>5</td>\n",
       "      <td>9</td>\n",
       "      <td>8.0</td>\n",
       "      <td>33120</td>\n",
       "      <td>1</td>\n",
       "      <td>1</td>\n",
       "      <td>Organic Egg Whites</td>\n",
       "      <td>86</td>\n",
       "      <td>16</td>\n",
       "      <td>11.3</td>\n",
       "      <td>both</td>\n",
       "    </tr>\n",
       "    <tr>\n",
       "      <th>31795464</th>\n",
       "      <td>2</td>\n",
       "      <td>202279</td>\n",
       "      <td>3</td>\n",
       "      <td>5</td>\n",
       "      <td>9</td>\n",
       "      <td>8.0</td>\n",
       "      <td>17794</td>\n",
       "      <td>6</td>\n",
       "      <td>1</td>\n",
       "      <td>Carrots</td>\n",
       "      <td>83</td>\n",
       "      <td>4</td>\n",
       "      <td>10.7</td>\n",
       "      <td>both</td>\n",
       "    </tr>\n",
       "    <tr>\n",
       "      <th>31795460</th>\n",
       "      <td>2</td>\n",
       "      <td>202279</td>\n",
       "      <td>3</td>\n",
       "      <td>5</td>\n",
       "      <td>9</td>\n",
       "      <td>8.0</td>\n",
       "      <td>28985</td>\n",
       "      <td>2</td>\n",
       "      <td>1</td>\n",
       "      <td>Michigan Organic Kale</td>\n",
       "      <td>83</td>\n",
       "      <td>4</td>\n",
       "      <td>13.4</td>\n",
       "      <td>both</td>\n",
       "    </tr>\n",
       "  </tbody>\n",
       "</table>\n",
       "</div>"
      ],
      "text/plain": [
       "          order_id  user_id  order_number  orders_day_of_week  \\\n",
       "31795466         2   202279             3                   5   \n",
       "31795465         2   202279             3                   5   \n",
       "31795459         2   202279             3                   5   \n",
       "31795464         2   202279             3                   5   \n",
       "31795460         2   202279             3                   5   \n",
       "\n",
       "          order_time_24hour  days_since_prior_order  product_id  \\\n",
       "31795466                  9                     8.0        1819   \n",
       "31795465                  9                     8.0       40141   \n",
       "31795459                  9                     8.0       33120   \n",
       "31795464                  9                     8.0       17794   \n",
       "31795460                  9                     8.0       28985   \n",
       "\n",
       "          add_to_cart_order  reordered  \\\n",
       "31795466                  8          1   \n",
       "31795465                  7          1   \n",
       "31795459                  1          1   \n",
       "31795464                  6          1   \n",
       "31795460                  2          1   \n",
       "\n",
       "                                      product_name  aisle_id  department_id  \\\n",
       "31795466  All Natural No Stir Creamy Almond Butter        88             13   \n",
       "31795465          Original Unflavored Gelatine Mix       105             13   \n",
       "31795459                        Organic Egg Whites        86             16   \n",
       "31795464                                   Carrots        83              4   \n",
       "31795460                     Michigan Organic Kale        83              4   \n",
       "\n",
       "          prices _merge  \n",
       "31795466    11.5   both  \n",
       "31795465    11.5   both  \n",
       "31795459    11.3   both  \n",
       "31795464    10.7   both  \n",
       "31795460    13.4   both  "
      ]
     },
     "execution_count": 50,
     "metadata": {},
     "output_type": "execute_result"
    }
   ],
   "source": [
    "df.head()"
   ]
  },
  {
   "cell_type": "code",
   "execution_count": 52,
   "id": "fdba5421-c535-4287-8734-24812253267f",
   "metadata": {},
   "outputs": [
    {
     "data": {
      "text/plain": [
       "(1000000, 14)"
      ]
     },
     "execution_count": 52,
     "metadata": {},
     "output_type": "execute_result"
    }
   ],
   "source": [
    "# check output\n",
    "df.shape"
   ]
  },
  {
   "cell_type": "code",
   "execution_count": 54,
   "id": "f635bc6a-b514-4b90-ad9f-6a6e003e24bd",
   "metadata": {},
   "outputs": [],
   "source": [
    "# define a new function based on price range\n",
    "def price_label(row):\n",
    "\n",
    "    if row['prices'] <= 5:\n",
    "        return 'low range product'\n",
    "    elif (row['prices'] > 5) and (row['prices'] <= 15):\n",
    "        return 'mid range product'\n",
    "    elif row['prices'] < 15:\n",
    "        return 'high range product'\n",
    "    else: return np.nan"
   ]
  },
  {
   "cell_type": "code",
   "execution_count": 56,
   "id": "fe0785d4-790d-4913-b77a-77468dfcdbc4",
   "metadata": {},
   "outputs": [
    {
     "name": "stderr",
     "output_type": "stream",
     "text": [
      "C:\\Users\\lisag\\AppData\\Local\\Temp\\ipykernel_18512\\2420364775.py:2: SettingWithCopyWarning: \n",
      "A value is trying to be set on a copy of a slice from a DataFrame.\n",
      "Try using .loc[row_indexer,col_indexer] = value instead\n",
      "\n",
      "See the caveats in the documentation: https://pandas.pydata.org/pandas-docs/stable/user_guide/indexing.html#returning-a-view-versus-a-copy\n",
      "  df['price_range'] = df.apply(price_label, axis=1)\n"
     ]
    }
   ],
   "source": [
    "# apply function\n",
    "df['price_range'] = df.apply(price_label, axis=1)"
   ]
  },
  {
   "cell_type": "code",
   "execution_count": 58,
   "id": "afd3dd40-5d1b-4af8-9f93-5fbd0e5f5d4c",
   "metadata": {},
   "outputs": [
    {
     "data": {
      "text/plain": [
       "price_range\n",
       "mid range product    674229\n",
       "low range product    312859\n",
       "NaN                   12912\n",
       "Name: count, dtype: int64"
      ]
     },
     "execution_count": 58,
     "metadata": {},
     "output_type": "execute_result"
    }
   ],
   "source": [
    "# check output\n",
    "df['price_range'].value_counts(dropna = False)"
   ]
  },
  {
   "cell_type": "code",
   "execution_count": 60,
   "id": "67446c40-e85a-4a78-81a0-f91af79315fc",
   "metadata": {},
   "outputs": [
    {
     "data": {
      "text/plain": [
       "99999.0"
      ]
     },
     "execution_count": 60,
     "metadata": {},
     "output_type": "execute_result"
    }
   ],
   "source": [
    "# max price in first 1,000,000 rows\n",
    "df['prices'].max()"
   ]
  },
  {
   "cell_type": "code",
   "execution_count": 62,
   "id": "32e6a240-8a17-4e8a-90c2-9b33a65aa10d",
   "metadata": {},
   "outputs": [],
   "source": [
    "# set a price variable\n",
    "specific_price = 99999"
   ]
  },
  {
   "cell_type": "code",
   "execution_count": 64,
   "id": "f3bf4feb-d5fa-4fa7-878d-616e5bdda26e",
   "metadata": {},
   "outputs": [
    {
     "name": "stdout",
     "output_type": "stream",
     "text": [
      "          order_id  user_id  order_number  orders_day_of_week  \\\n",
      "17128048      4783   108505            34                   2   \n",
      "30134540     13820   191672            25                   0   \n",
      "11799473     16454    74750            24                   5   \n",
      "26292065     16749   167224            18                   2   \n",
      "1174861      17778     7608             2                   2   \n",
      "15897705     19964   100655             1                   2   \n",
      "18013479     22283   114060            46                   2   \n",
      "12219867     23724    77427             2                   0   \n",
      "14626305     36991    92658            16                   5   \n",
      "4330473      37570    27542             3                   2   \n",
      "27526055     39461   175131             9                   5   \n",
      "29501394     44415   187581             2                   5   \n",
      "15323294     44528    97018             6                   6   \n",
      "17615113     47825   111487            27                   6   \n",
      "23941148     62723   152144            86                   1   \n",
      "26939171     62989   171443             6                   3   \n",
      "6447295      67023    41106            51                   1   \n",
      "23461696     68995   149120             2                   5   \n",
      "31531955     74173   200530             4                   0   \n",
      "13095242     84159    82951             3                   4   \n",
      "22856679     85346   145276            15                   2   \n",
      "6962676      85996    44229             5                   3   \n",
      "8352135      89029    52993            28                   0   \n",
      "13557029     90732    85881             7                   6   \n",
      "\n",
      "          order_time_24hour  days_since_prior_order  product_id  \\\n",
      "17128048                 13                    10.0       33664   \n",
      "30134540                 22                     6.0       33664   \n",
      "11799473                 15                     2.0       33664   \n",
      "26292065                 14                     6.0       33664   \n",
      "1174861                   8                     1.0       33664   \n",
      "15897705                 17                     NaN       33664   \n",
      "18013479                  8                     2.0       33664   \n",
      "12219867                 16                     8.0       33664   \n",
      "14626305                 11                     5.0       33664   \n",
      "4330473                  15                    12.0       33664   \n",
      "27526055                 12                    30.0       33664   \n",
      "29501394                 13                    30.0       33664   \n",
      "15323294                 18                     5.0       33664   \n",
      "17615113                  8                     8.0       33664   \n",
      "23941148                  2                     4.0       33664   \n",
      "26939171                 12                     5.0       33664   \n",
      "6447295                  17                     3.0       33664   \n",
      "23461696                 21                    13.0       33664   \n",
      "31531955                 15                     4.0       33664   \n",
      "13095242                 12                    30.0       33664   \n",
      "22856679                  7                    11.0       33664   \n",
      "6962676                   9                    19.0       33664   \n",
      "8352135                  20                     3.0       33664   \n",
      "13557029                 17                     3.0       33664   \n",
      "\n",
      "          add_to_cart_order  reordered           product_name  aisle_id  \\\n",
      "17128048                 13          0  2 % Reduced Fat  Milk        84   \n",
      "30134540                  6          0  2 % Reduced Fat  Milk        84   \n",
      "11799473                 10          1  2 % Reduced Fat  Milk        84   \n",
      "26292065                  9          1  2 % Reduced Fat  Milk        84   \n",
      "1174861                   9          0  2 % Reduced Fat  Milk        84   \n",
      "15897705                  1          0  2 % Reduced Fat  Milk        84   \n",
      "18013479                  5          1  2 % Reduced Fat  Milk        84   \n",
      "12219867                  6          1  2 % Reduced Fat  Milk        84   \n",
      "14626305                  1          1  2 % Reduced Fat  Milk        84   \n",
      "4330473                   4          1  2 % Reduced Fat  Milk        84   \n",
      "27526055                  4          0  2 % Reduced Fat  Milk        84   \n",
      "29501394                 10          0  2 % Reduced Fat  Milk        84   \n",
      "15323294                  3          1  2 % Reduced Fat  Milk        84   \n",
      "17615113                  4          1  2 % Reduced Fat  Milk        84   \n",
      "23941148                  4          1  2 % Reduced Fat  Milk        84   \n",
      "26939171                  5          1  2 % Reduced Fat  Milk        84   \n",
      "6447295                   2          1  2 % Reduced Fat  Milk        84   \n",
      "23461696                  9          0  2 % Reduced Fat  Milk        84   \n",
      "31531955                  1          1  2 % Reduced Fat  Milk        84   \n",
      "13095242                 10          0  2 % Reduced Fat  Milk        84   \n",
      "22856679                 10          0  2 % Reduced Fat  Milk        84   \n",
      "6962676                   4          1  2 % Reduced Fat  Milk        84   \n",
      "8352135                   5          0  2 % Reduced Fat  Milk        84   \n",
      "13557029                  7          0  2 % Reduced Fat  Milk        84   \n",
      "\n",
      "          department_id   prices _merge price_range  \n",
      "17128048             16  99999.0   both         NaN  \n",
      "30134540             16  99999.0   both         NaN  \n",
      "11799473             16  99999.0   both         NaN  \n",
      "26292065             16  99999.0   both         NaN  \n",
      "1174861              16  99999.0   both         NaN  \n",
      "15897705             16  99999.0   both         NaN  \n",
      "18013479             16  99999.0   both         NaN  \n",
      "12219867             16  99999.0   both         NaN  \n",
      "14626305             16  99999.0   both         NaN  \n",
      "4330473              16  99999.0   both         NaN  \n",
      "27526055             16  99999.0   both         NaN  \n",
      "29501394             16  99999.0   both         NaN  \n",
      "15323294             16  99999.0   both         NaN  \n",
      "17615113             16  99999.0   both         NaN  \n",
      "23941148             16  99999.0   both         NaN  \n",
      "26939171             16  99999.0   both         NaN  \n",
      "6447295              16  99999.0   both         NaN  \n",
      "23461696             16  99999.0   both         NaN  \n",
      "31531955             16  99999.0   both         NaN  \n",
      "13095242             16  99999.0   both         NaN  \n",
      "22856679             16  99999.0   both         NaN  \n",
      "6962676              16  99999.0   both         NaN  \n",
      "8352135              16  99999.0   both         NaN  \n",
      "13557029             16  99999.0   both         NaN  \n"
     ]
    }
   ],
   "source": [
    "# identify rows based on specified price variable\n",
    "row = df[df['prices'] == specific_price]\n",
    "print(row)"
   ]
  },
  {
   "cell_type": "code",
   "execution_count": 66,
   "id": "97c83e78-a7cd-44c0-a358-981d43142d62",
   "metadata": {},
   "outputs": [
    {
     "name": "stdout",
     "output_type": "stream",
     "text": [
      "Index(['order_id', 'user_id', 'order_number', 'orders_day_of_week',\n",
      "       'order_time_24hour', 'days_since_prior_order', 'product_id',\n",
      "       'add_to_cart_order', 'reordered', 'product_name', 'aisle_id',\n",
      "       'department_id', 'prices', '_merge', 'price_range'],\n",
      "      dtype='object')\n"
     ]
    }
   ],
   "source": [
    "print(df.columns)"
   ]
  },
  {
   "cell_type": "code",
   "execution_count": 68,
   "id": "b7ae9a0b-486f-4a9b-96f7-e492316bb135",
   "metadata": {},
   "outputs": [
    {
     "data": {
      "text/plain": [
       "24"
      ]
     },
     "execution_count": 68,
     "metadata": {},
     "output_type": "execute_result"
    }
   ],
   "source": [
    "# check output\n",
    "(df['prices'] == specific_price).sum()"
   ]
  },
  {
   "cell_type": "code",
   "execution_count": 70,
   "id": "29973bfc-4909-45c4-9015-dcf131f3dd55",
   "metadata": {},
   "outputs": [
    {
     "name": "stderr",
     "output_type": "stream",
     "text": [
      "C:\\Users\\lisag\\AppData\\Local\\Temp\\ipykernel_18512\\1138491706.py:2: SettingWithCopyWarning: \n",
      "A value is trying to be set on a copy of a slice from a DataFrame.\n",
      "Try using .loc[row_indexer,col_indexer] = value instead\n",
      "\n",
      "See the caveats in the documentation: https://pandas.pydata.org/pandas-docs/stable/user_guide/indexing.html#returning-a-view-versus-a-copy\n",
      "  df.loc[df['prices'] > 15, 'price_range_loc'] = 'High-range product'\n"
     ]
    }
   ],
   "source": [
    "# use the loc() method to create a new filter column\n",
    "df.loc[df['prices'] > 15, 'price_range_loc'] = 'High-range product'"
   ]
  },
  {
   "cell_type": "code",
   "execution_count": 72,
   "id": "d083d924-443c-4429-a35f-b2c695ab9a48",
   "metadata": {},
   "outputs": [],
   "source": [
    "df.loc[(df['prices'] <= 15) & (df['prices'] > 5), 'price_range_loc'] = 'Mid-range product' "
   ]
  },
  {
   "cell_type": "code",
   "execution_count": 74,
   "id": "3e26c855-8f8e-4a4d-bded-f49b3fa29658",
   "metadata": {},
   "outputs": [],
   "source": [
    "df.loc[df['prices'] <= 5, 'price_range_loc'] = 'Low-range product'"
   ]
  },
  {
   "cell_type": "code",
   "execution_count": 76,
   "id": "e0e39570-c9bf-40c3-b253-17cdfe34cbf0",
   "metadata": {},
   "outputs": [
    {
     "data": {
      "text/plain": [
       "price_range_loc\n",
       "Mid-range product     674229\n",
       "Low-range product     312859\n",
       "High-range product     12912\n",
       "Name: count, dtype: int64"
      ]
     },
     "execution_count": 76,
     "metadata": {},
     "output_type": "execute_result"
    }
   ],
   "source": [
    "df['price_range_loc'].value_counts(dropna = False)"
   ]
  },
  {
   "cell_type": "code",
   "execution_count": 80,
   "id": "25abaced-e667-4afd-babc-6ee24b4ac849",
   "metadata": {},
   "outputs": [],
   "source": [
    "# use the loc() method to create a new filter column for entire dataframe\n",
    "df_ords_prods_merge.loc[df_ords_prods_merge['prices'] > 15, 'price_range_loc'] = 'High-range product'"
   ]
  },
  {
   "cell_type": "code",
   "execution_count": 82,
   "id": "29eba33f-354f-4af1-aa63-2af83fc9bfd2",
   "metadata": {},
   "outputs": [],
   "source": [
    "df_ords_prods_merge.loc[(df_ords_prods_merge['prices'] <= 15) & (df_ords_prods_merge['prices'] > 5), 'price_range_loc'] = 'Mid-range product' "
   ]
  },
  {
   "cell_type": "code",
   "execution_count": 84,
   "id": "abb991c3-43e8-4255-9ff6-f56427df1952",
   "metadata": {},
   "outputs": [],
   "source": [
    "df_ords_prods_merge.loc[df_ords_prods_merge['prices'] <= 5, 'price_range_loc'] = 'Low-range product'"
   ]
  },
  {
   "cell_type": "code",
   "execution_count": 86,
   "id": "8b3c2fcf-648f-4bbb-922f-c82404abdd6c",
   "metadata": {},
   "outputs": [
    {
     "data": {
      "text/plain": [
       "price_range_loc\n",
       "Mid-range product     21860860\n",
       "Low-range product     10126321\n",
       "High-range product      417678\n",
       "Name: count, dtype: int64"
      ]
     },
     "execution_count": 86,
     "metadata": {},
     "output_type": "execute_result"
    }
   ],
   "source": [
    "df_ords_prods_merge['price_range_loc'].value_counts(dropna = False)"
   ]
  },
  {
   "cell_type": "code",
   "execution_count": 88,
   "id": "7a3716bc-d418-4ecf-b495-de033173caee",
   "metadata": {},
   "outputs": [
    {
     "data": {
      "text/plain": [
       "orders_day_of_week\n",
       "0    6204182\n",
       "1    5660230\n",
       "6    4496490\n",
       "2    4213830\n",
       "5    4205791\n",
       "3    3840534\n",
       "4    3783802\n",
       "Name: count, dtype: int64"
      ]
     },
     "execution_count": 88,
     "metadata": {},
     "output_type": "execute_result"
    }
   ],
   "source": [
    "# find the busiest days of the week\n",
    "df_ords_prods_merge['orders_day_of_week'].value_counts(dropna = False)"
   ]
  },
  {
   "cell_type": "code",
   "execution_count": 124,
   "id": "cdf5a7cd-7300-40e3-ab39-084531b1e03a",
   "metadata": {},
   "outputs": [],
   "source": [
    "# loop creation for ranking days of the weeks' busy levels\n",
    "result = []\n",
    "\n",
    "for value in df_ords_prods_merge[\"orders_day_of_week\"]:\n",
    "  if value == 0:\n",
    "    result.append(\"Busiest day\")\n",
    "  elif value == 4:\n",
    "    result.append(\"Least busy\")\n",
    "  else:\n",
    "    result.append(\"Regularly busy\")"
   ]
  },
  {
   "cell_type": "code",
   "execution_count": 128,
   "id": "841e23e8-4574-42a9-ac9c-d411b3325eb0",
   "metadata": {},
   "outputs": [],
   "source": [
    "df_ords_prods_merge['busiest_day'] = result"
   ]
  },
  {
   "cell_type": "code",
   "execution_count": 130,
   "id": "8b460c9b-cdea-4b6c-8ab2-0a38b4a1b699",
   "metadata": {},
   "outputs": [
    {
     "data": {
      "text/plain": [
       "busiest_day\n",
       "Regularly busy    22416875\n",
       "Busiest day        6204182\n",
       "Least busy         3783802\n",
       "Name: count, dtype: int64"
      ]
     },
     "execution_count": 130,
     "metadata": {},
     "output_type": "execute_result"
    }
   ],
   "source": [
    "df_ords_prods_merge['busiest_day'].value_counts(dropna = False)"
   ]
  },
  {
   "cell_type": "code",
   "execution_count": 144,
   "id": "ba184144-2287-498b-945d-8177a7bddda7",
   "metadata": {},
   "outputs": [],
   "source": [
    "# create an additional column for busiest_days\n",
    "result_1 = []\n",
    "\n",
    "for value in df_ords_prods_merge[\"orders_day_of_week\"]:\n",
    "  if value in [0, 1]:\n",
    "    result_1.append(\"Two busiest days\")\n",
    "  elif value in [3, 4]:\n",
    "    result_1.append(\"Two least busy days\")\n",
    "  else:\n",
    "    result_1.append(\"Regularly busy days\")"
   ]
  },
  {
   "cell_type": "code",
   "execution_count": 146,
   "id": "53366f18-2932-4923-83b4-302616bdaa07",
   "metadata": {},
   "outputs": [],
   "source": [
    "df_ords_prods_merge['busiest_days'] = result_1"
   ]
  },
  {
   "cell_type": "code",
   "execution_count": 148,
   "id": "7368ff33-7695-449c-9bd3-6dba38a95c2c",
   "metadata": {},
   "outputs": [
    {
     "data": {
      "text/plain": [
       "busiest_days\n",
       "Regularly busy days    12916111\n",
       "Two busiest days       11864412\n",
       "Two least busy days     7624336\n",
       "Name: count, dtype: int64"
      ]
     },
     "execution_count": 148,
     "metadata": {},
     "output_type": "execute_result"
    }
   ],
   "source": [
    "# find values of busy day categories\n",
    "df_ords_prods_merge['busiest_days'].value_counts(dropna = False)"
   ]
  },
  {
   "cell_type": "code",
   "execution_count": 151,
   "id": "1ddbf7bf-edff-49c2-88eb-713fd2c262b1",
   "metadata": {},
   "outputs": [
    {
     "data": {
      "text/plain": [
       "order_time_24hour\n",
       "10    2761760\n",
       "11    2736140\n",
       "14    2689136\n",
       "15    2662144\n",
       "13    2660954\n",
       "12    2618532\n",
       "16    2535202\n",
       "9     2454203\n",
       "17    2087654\n",
       "8     1718118\n",
       "18    1636502\n",
       "19    1258305\n",
       "20     976156\n",
       "7      891054\n",
       "21     795637\n",
       "22     634225\n",
       "23     402316\n",
       "6      290493\n",
       "0      218769\n",
       "1      115700\n",
       "5       87961\n",
       "2       69375\n",
       "4       53242\n",
       "3       51281\n",
       "Name: count, dtype: int64"
      ]
     },
     "execution_count": 151,
     "metadata": {},
     "output_type": "execute_result"
    }
   ],
   "source": [
    "# find the busiest hours of the day\n",
    "df_ords_prods_merge['order_time_24hour'].value_counts(dropna = False)"
   ]
  },
  {
   "cell_type": "code",
   "execution_count": 153,
   "id": "181c7591-3afc-45a2-99f7-a4248e1044b4",
   "metadata": {},
   "outputs": [],
   "source": [
    "# create a column for busiest_period_of_day\n",
    "result_2 = []\n",
    "\n",
    "for value in df_ords_prods_merge[\"order_time_24hour\"]:\n",
    "  if value in [9, 10, 11, 12, 13, 14, 15, 16]:\n",
    "    result_2.append(\"Most orders\")\n",
    "  elif value in [0, 1, 2, 3, 4, 5, 6, 23]:\n",
    "    result_2.append(\"Fewest orders\")\n",
    "  else:\n",
    "    result_2.append(\"Average orders\")"
   ]
  },
  {
   "cell_type": "code",
   "execution_count": 155,
   "id": "c2508e11-4f3e-438b-8824-879012f67864",
   "metadata": {},
   "outputs": [],
   "source": [
    "df_ords_prods_merge['busiest_period_of_day'] = result_2"
   ]
  },
  {
   "cell_type": "code",
   "execution_count": 157,
   "id": "87905f3b-1051-4f64-bd17-0c3dea217cee",
   "metadata": {},
   "outputs": [
    {
     "data": {
      "text/plain": [
       "busiest_period_of_day\n",
       "Most orders       21118071\n",
       "Average orders     9997651\n",
       "Fewest orders      1289137\n",
       "Name: count, dtype: int64"
      ]
     },
     "execution_count": 157,
     "metadata": {},
     "output_type": "execute_result"
    }
   ],
   "source": [
    "# find values for busy times\n",
    "df_ords_prods_merge['busiest_period_of_day'].value_counts(dropna = False)"
   ]
  },
  {
   "cell_type": "code",
   "execution_count": 159,
   "id": "5fe7f13d-cc88-4df4-8e5d-950c2a115e53",
   "metadata": {},
   "outputs": [],
   "source": [
    "# export dataframe as pickle\n",
    "df_ords_prods_merge.to_pickle(os.path.join(path, '02 Data','Prepared Data', 'orders_products_new_columns.pkl'))"
   ]
  },
  {
   "cell_type": "code",
   "execution_count": null,
   "id": "45ce7ef0-bf38-44fe-bdc9-3d14ec4876f0",
   "metadata": {},
   "outputs": [],
   "source": []
  }
 ],
 "metadata": {
  "kernelspec": {
   "display_name": "Python 3 (ipykernel)",
   "language": "python",
   "name": "python3"
  },
  "language_info": {
   "codemirror_mode": {
    "name": "ipython",
    "version": 3
   },
   "file_extension": ".py",
   "mimetype": "text/x-python",
   "name": "python",
   "nbconvert_exporter": "python",
   "pygments_lexer": "ipython3",
   "version": "3.12.7"
  }
 },
 "nbformat": 4,
 "nbformat_minor": 5
}
